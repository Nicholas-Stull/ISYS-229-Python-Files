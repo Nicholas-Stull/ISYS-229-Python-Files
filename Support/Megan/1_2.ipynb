{
 "cells": [
  {
   "cell_type": "code",
   "execution_count": null,
   "metadata": {},
   "outputs": [],
   "source": [
    "# 1_2\n",
    "# OG Code\n",
    "\n",
    "import sys\n",
    "\n",
    "# name and age inputs\n",
    "name_first = input(\"Your first name: \")\n",
    "name_last = input(\"Your middle name: \")\n",
    "Age_number = input(\"Your age: \")\n",
    "# number varible inputs\n",
    "Weight_p = int(input(\"Your weight in pounds: \"))\n",
    "height_f = int(input(\"Your height in feet: \"))\n",
    "# conversions\n",
    "weight_k = Weight_p * 0.045\n",
    "weight_o = Weight_p * 16\n",
    "height_m = height_f * 0.3048\n",
    "# the resaults statments\n",
    "print()"
   ]
  },
  {
   "cell_type": "code",
   "execution_count": 2,
   "metadata": {},
   "outputs": [
    {
     "name": "stderr",
     "output_type": "stream",
     "text": [
      "ic| weight_o: 192, weight_k: 0.54, height_m: 3.6576000000000004\n"
     ]
    },
    {
     "data": {
      "text/plain": [
       "(192, 0.54, 3.6576000000000004)"
      ]
     },
     "execution_count": 2,
     "metadata": {},
     "output_type": "execute_result"
    }
   ],
   "source": [
    "# updated code\n",
    "# Tested out ice cream\n",
    "# pip install icecream - https://github.com/gruns/icecream\n",
    "\n",
    "import sys\n",
    "from icecream import ic\n",
    "\n",
    "# name and age inputs\n",
    "name_first = input(\"Your first name: \")\n",
    "name_last = input(\"Your middle name: \")\n",
    "Age_number = input(\"Your age: \")\n",
    "# number varible inputs\n",
    "Weight_p = int(input(\"Your weight in lbs: \"))\n",
    "height_f = int(input(\"Your height in feet: \"))\n",
    "# conversions\n",
    "weight_k = Weight_p * 0.045\n",
    "weight_o = Weight_p * 16\n",
    "height_m = height_f * 0.3048\n",
    "ic(weight_o,weight_k,height_m)\n",
    "\n",
    "\n",
    "# the results statments\n",
    "# print (\"Hello\", name_first, name_last,\".\", \"Your weight in Kilometers is\", weight_k, \"and your weight in ounces is\", weight_o, \". Your height in meters is\", height_m, \".\")"
   ]
  }
 ],
 "metadata": {
  "kernelspec": {
   "display_name": "Python 3",
   "language": "python",
   "name": "python3"
  },
  "language_info": {
   "codemirror_mode": {
    "name": "ipython",
    "version": 3
   },
   "file_extension": ".py",
   "mimetype": "text/x-python",
   "name": "python",
   "nbconvert_exporter": "python",
   "pygments_lexer": "ipython3",
   "version": "3.11.4"
  }
 },
 "nbformat": 4,
 "nbformat_minor": 2
}
