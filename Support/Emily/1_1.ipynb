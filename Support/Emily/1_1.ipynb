{
 "cells": [
  {
   "cell_type": "markdown",
   "metadata": {},
   "source": [
    "# 1.1 Notes - Original \n",
    "Your code needed commas between the variables and strings.\n",
    "As well as below I added the .split() method to the end of the input function. This way when the user inputs the data \n",
    "it will be split into the variables.\n",
    "\n",
    "The first one uses the f-string method. The f-string method is the most common way to format strings in Python. \n",
    "It makes the output not have a space between the name and the comma. The second one is closer to the one you sent me."
   ]
  },
  {
   "cell_type": "code",
   "execution_count": null,
   "metadata": {},
   "outputs": [],
   "source": [
    "# uses the f string to print the variables in the string.\n",
    "import sys\n",
    "\n",
    "# Splitting the input into the variables. The .split() takes the input and splits it into the variables.\n",
    "name, gender, occupation, age = input(\n",
    "    \"Please input your first name, gender, occupation and age separated by comma: \"\n",
    ").split(\",\")\n",
    "print(\n",
    "    f\"Your name is {name}, you are a {gender} {occupation} and you are {age} years old!\"\n",
    ")\n",
    "\"\"\"\n",
    "output:\n",
    "Please input your first name, gender, occupation and age separated by comma: Nick,Male,Strudle,21\n",
    "Your name is Nick, you are a Male Strudle and you are 21 years old!\n",
    "\"\"\""
   ]
  },
  {
   "cell_type": "code",
   "execution_count": null,
   "metadata": {},
   "outputs": [],
   "source": [
    "# uses the seperated veriables to print the variables in the string.\n",
    "import sys\n",
    "name, gender, occupation, age = input(\"Please input your first name, gender, occupation and age separated by comma: \").split(\",\")\n",
    "print(\"Your name is\",name,\", you are a\",gender,\",\",occupation,\"and you are\",age,\"years old!\")\n",
    "\n",
    "\"\"\"\n",
    "output:\n",
    "Please input your first name, gender, occupation and age separated by comma: Nick,Male,Strudle,21\n",
    "Your name is Nick , you are a Male , Strudle and you are 21 years old!\n",
    "\"\"\""
   ]
  }
 ],
 "metadata": {
  "kernelspec": {
   "display_name": "Python 3",
   "language": "python",
   "name": "python3"
  },
  "language_info": {
   "name": "python",
   "version": "3.11.4"
  }
 },
 "nbformat": 4,
 "nbformat_minor": 2
}
