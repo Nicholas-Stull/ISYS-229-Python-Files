{
 "cells": [
  {
   "cell_type": "code",
   "execution_count": 1,
   "metadata": {},
   "outputs": [
    {
     "name": "stdout",
     "output_type": "stream",
     "text": [
      "Course title:  --ip=127.0.0.1\n",
      "Couse number:  --stdin=9003\n",
      "Instructor:  --control=9001\n"
     ]
    }
   ],
   "source": [
    "import sys # import the sys module\n",
    "print(\"Course title: \", sys.argv[1]) #print Course title using sys.argv\n",
    "print(\"Couse number: \", sys.argv[2]) #print Course number using sys.argv"
   ]
  },
  {
   "cell_type": "code",
   "execution_count": null,
   "metadata": {},
   "outputs": [],
   "source": [
    "#input function for first name, last name, and age\n",
    "fname, lname, age = input(\"enter first name now: \"), input( \"enter last name now: \"), input(\"enter age now: \")\n",
    "print(fname) #print first name\n",
    "print(lname) #print last name\n",
    "print(age) #print age\n"
   ]
  },
  {
   "cell_type": "code",
   "execution_count": 7,
   "metadata": {},
   "outputs": [
    {
     "name": "stdout",
     "output_type": "stream",
     "text": [
      "Hello, my name is nop nie and I am 1234 years old.\n"
     ]
    }
   ],
   "source": [
    "# input first name, last name, and age\n",
    "fname,lname,age = input(\"enter first name now: \"), input(\"enter last name now: \"), input(\"enter age now: \") \n",
    "# print the input using the variables\n",
    "print(\"Hello, my name is\", fname, lname, \"and I am\", age, \"years old.\")\n"
   ]
  },
  {
   "cell_type": "code",
   "execution_count": null,
   "metadata": {},
   "outputs": [],
   "source": [
    "a,b,c = 1,2,3\n",
    "print(a,b,c)"
   ]
  }
 ],
 "metadata": {
  "kernelspec": {
   "display_name": "Python 3",
   "language": "python",
   "name": "python3"
  },
  "language_info": {
   "codemirror_mode": {
    "name": "ipython",
    "version": 3
   },
   "file_extension": ".py",
   "mimetype": "text/x-python",
   "name": "python",
   "nbconvert_exporter": "python",
   "pygments_lexer": "ipython3",
   "version": "3.11.1"
  },
  "orig_nbformat": 4,
  "vscode": {
   "interpreter": {
    "hash": "bd302b0bf7607ef858b0b60d817d0cdff726ce2e302705e5f11f097fbdec3ff2"
   }
  }
 },
 "nbformat": 4,
 "nbformat_minor": 2
}
