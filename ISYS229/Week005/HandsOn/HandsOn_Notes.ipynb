{
 "cells": [
  {
   "cell_type": "code",
   "execution_count": 2,
   "metadata": {},
   "outputs": [
    {
     "name": "stdout",
     "output_type": "stream",
     "text": [
      "Hello Nicholas stull Stull, the days of the week you entered are:, ['--ip=127.0.0.1', '--stdin=9003', '--control=9001', '--hb=9000', '--Session.signature_scheme=\"hmac-sha256\"', '--Session.key=b\"545d935a-791a-406f-9aee-b5f9806c30da\"', '--shell=9002']\n"
     ]
    }
   ],
   "source": [
    "import sys\n",
    "\n",
    "# Import the seven days of the week from the system arguments and store them in a list\n",
    "days_of_week = sys.argv[1:8]\n",
    "\n",
    "# Get the user's first name\n",
    "first_name = input(\"Enter your first name: \")\n",
    "\n",
    "# Get the user's last name\n",
    "last_name = input(\"Enter your last name: \")\n",
    "\n",
    "# Capitalize the first letter of the first name\n",
    "first_name = first_name.capitalize()\n",
    "\n",
    "# Capitalize the first letter of the last name\n",
    "last_name = last_name.capitalize()\n",
    "\n",
    "# Create a formatted string with the user's name\n",
    "formatted_string = f\"Hello {first_name} {last_name}, the days of the week you entered are:, {days_of_week}\"\n",
    "\n",
    "# Print the formatted string\n",
    "print(formatted_string)\n"
   ]
  },
  {
   "cell_type": "code",
   "execution_count": null,
   "metadata": {},
   "outputs": [],
   "source": [
    "\n",
    "# Ask the user to enter the element number to fetch from the days of the week\n",
    "element_number = int(\n",
    "    input(\"Enter the specific element number to fetch from the days of the week: \"))\n",
    "\n",
    "# Store the indexed value in a variable\n",
    "indexed_value = days_of_week[element_number]\n",
    "\n",
    "# Ask the user to enter an element number starting from left to right\n",
    "start_element_number = int(\n",
    "    input(\"Enter an element number starting from left to right: \"))\n",
    "\n",
    "# Using formatted strings, display the indexed value and the result of that value all in caps\n",
    "print(f\"The indexed value is: {indexed_value.upper()}\")\n",
    "print(\n",
    "    f\"The result of that value all in caps: {days_of_week[start_element_number:].upper()}\")\n",
    "\n",
    "# Using formatted strings, display the results of starting from a specific element within the list\n",
    "print(\n",
    "    f\"The results of starting from a specific element within the list: {days_of_week[start_element_number:]}\")\n"
   ]
  },
  {
   "cell_type": "code",
   "execution_count": null,
   "metadata": {},
   "outputs": [],
   "source": [
    "# Get the user's first and last name\n",
    "first_name = input(\"What is your first name? \").capitalize()\n",
    "last_name = input(\"What is your last name? \").capitalize()\n",
    "\n",
    "# Get the days the user has class\n",
    "days = input(\n",
    "    \"What days do you have class? (Please enter as comma-separated list) \").split(\",\")\n",
    "days = [day.strip().capitalize() for day in days]\n",
    "\n",
    "# Get the days of the week\n",
    "weekdays = [\"Monday\", \"Tuesday\", \"Wednesday\",\n",
    "            \"Thursday\", \"Friday\", \"Saturday\", \"Sunday\"]\n",
    "\n",
    "# Calculate the days the user doesn't have class\n",
    "no_class = [day for day in weekdays if day not in days]\n",
    "\n",
    "# Output the results\n",
    "print(\n",
    "    f\"Thank you, {first_name} {last_name}, you have class on these days: {', '.join(days)}.\")\n",
    "print(f\"You don't have class on these days: {', '.join(no_class)}.\")\n"
   ]
  }
 ],
 "metadata": {
  "kernelspec": {
   "display_name": "Python 3",
   "language": "python",
   "name": "python3"
  },
  "language_info": {
   "codemirror_mode": {
    "name": "ipython",
    "version": 3
   },
   "file_extension": ".py",
   "mimetype": "text/x-python",
   "name": "python",
   "nbconvert_exporter": "python",
   "pygments_lexer": "ipython3",
   "version": "3.11.1"
  },
  "orig_nbformat": 4,
  "vscode": {
   "interpreter": {
    "hash": "bd302b0bf7607ef858b0b60d817d0cdff726ce2e302705e5f11f097fbdec3ff2"
   }
  }
 },
 "nbformat": 4,
 "nbformat_minor": 2
}
