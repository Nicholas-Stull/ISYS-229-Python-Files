{
 "cells": [
  {
   "cell_type": "code",
   "execution_count": 6,
   "metadata": {
    "slideshow": {
     "slide_type": "notes"
    }
   },
   "outputs": [],
   "source": [
    "# made by Nicholas Stull\n",
    "# 1/18/2021\n",
    "# github.com/Nicholas-Stull"
   ]
  },
  {
   "cell_type": "code",
   "execution_count": 7,
   "metadata": {},
   "outputs": [
    {
     "name": "stdout",
     "output_type": "stream",
     "text": [
      "You are 20, and you're too young to run for president\n"
     ]
    }
   ],
   "source": [
    "\n",
    "age_president = 35\n",
    "# input\n",
    "name = input(\"What is your name? \")\n",
    "user_age = int(input(\"What is your age? \"))  # changes `userAge` to an integer\n",
    "if user_age < age_president:\n",
    "    print(f\"You are {user_age}, and you're too young to run for president\")\n",
    "else:\n",
    "    print(\n",
    "        f\"You are {user_age} and old enough to run for president or another office\")\n"
   ]
  },
  {
   "cell_type": "code",
   "execution_count": 23,
   "metadata": {},
   "outputs": [
    {
     "name": "stdout",
     "output_type": "stream",
     "text": [
      "your answer is 24\n"
     ]
    }
   ],
   "source": [
    "notThebucket1 = int(input(\"Enter a number: \"))\n",
    "notThebucket2 = int(input(\"Enter another number: \"))\n",
    "answer = (notThebucket1) + (notThebucket2)\n",
    "print(\"your answer is\", str(answer))\n"
   ]
  },
  {
   "cell_type": "code",
   "execution_count": null,
   "metadata": {},
   "outputs": [],
   "source": [
    "print(\"5+10\")   #print(\"5+10\")\n",
    "print(\"5%10\")   #print(\"5%10\")"
   ]
  },
  {
   "cell_type": "code",
   "execution_count": null,
   "metadata": {},
   "outputs": [],
   "source": [
    "# Variables1\n",
    "true = \"false\"\n",
    "false = \"true\"\n",
    "\n",
    "print(type(true))\n",
    "print(true)\n",
    "print(false)\n"
   ]
  }
 ],
 "metadata": {
  "kernelspec": {
   "display_name": "Python 3",
   "language": "python",
   "name": "python3"
  },
  "language_info": {
   "codemirror_mode": {
    "name": "ipython",
    "version": 3
   },
   "file_extension": ".py",
   "mimetype": "text/x-python",
   "name": "python",
   "nbconvert_exporter": "python",
   "pygments_lexer": "ipython3",
   "version": "3.11.1"
  },
  "orig_nbformat": 4,
  "vscode": {
   "interpreter": {
    "hash": "bd302b0bf7607ef858b0b60d817d0cdff726ce2e302705e5f11f097fbdec3ff2"
   }
  }
 },
 "nbformat": 4,
 "nbformat_minor": 2
}
