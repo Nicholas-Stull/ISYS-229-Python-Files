{
 "cells": [
  {
   "cell_type": "code",
   "execution_count": null,
   "metadata": {},
   "outputs": [],
   "source": [
    "#1.2\n",
    "import sys\n",
    "def print_info(initials, nickname):\n",
    "    print(\"-\"*20)\n",
    "    print(\"Initials: \", initials)\n",
    "    print(\"Nickname: \", nickname)\n",
    "    print(\"-\"*20)\n",
    "print_info(\"AB\", \"John\")\n"
   ]
  },
  {
   "cell_type": "code",
   "execution_count": null,
   "metadata": {},
   "outputs": [],
   "source": [
    "#2.2a\n",
    "def convert_to_uppercase(word, count):\n",
    "    # Check if the count is greater than the length of the word\n",
    "    if count > len(word):\n",
    "        count = len(word)\n",
    "    \n",
    "    # Convert the last 'count' letters of the word to uppercase\n",
    "    result = word[:-count].lower() + word[-count:].upper()\n",
    "    return result\n",
    "\n",
    "# Take input from the user\n",
    "word = input(\"Enter a word: \")\n",
    "count = int(input(\"Enter the count: \"))\n",
    "# Call the function and print the result\n",
    "print(convert_to_uppercase(word, count))"
   ]
  },
  {
   "cell_type": "code",
   "execution_count": null,
   "metadata": {},
   "outputs": [],
   "source": [
    "#2.3\n",
    "def slice_array(numbers, count):\n",
    "    print(\"Array:\", numbers) #print the list of numbers\n",
    "    print(\"Elements:\", numbers[:count]) # Print the slice of the array from the first element to the nth element\n",
    "numbers = [34, 9, 32, 91, 58, 13, 77, 21, 56]\n",
    "slice_array(numbers, 3)\n",
    "\n"
   ]
  },
  {
   "cell_type": "code",
   "execution_count": null,
   "metadata": {},
   "outputs": [],
   "source": [
    "#3.2\n",
    "answer = input(\"Return TRUE or FALSE: Python3 was released in 2008:\\n\")\n",
    "answer = str(answer.upper()) #parses string value to all upper case to prepare for comparison\n",
    "\n",
    "if answer == \"TRUE\": #compares variable year to YES and prints correct if a match\n",
    "    print('Correct')\n",
    "    print('Have a great day!')\n",
    "elif answer == \"FALSE\": #compares variable year to NO and prints incorrect if not a match\n",
    "    print('Incorrect')\n",
    "    print('Have a great day!')\n",
    "elif answer != (\"TRUE\" or \"FALSE\"): #determines if any other values are entered and reqeusts correct statements\n",
    "    print('Please answer TRUE or FALSE')\n",
    "    print('Have a great day!')"
   ]
  },
  {
   "cell_type": "code",
   "execution_count": null,
   "metadata": {},
   "outputs": [],
   "source": [
    "#3.3\n",
    "#Ask user for user name\n",
    "user_name = input(\"Enter your name: \")\n",
    "\n",
    "#This is a stored clear text password\n",
    "stored_password = \"Pas$Word\"\n",
    "\n",
    "#control variable initiated to value of False\n",
    "require_auth = True\n",
    "\n",
    "#Loop while authentication is set to false\n",
    "while require_auth == True:\n",
    "    password = input(\"Enter your password: \") #asks for user password\n",
    "    if password == stored_password: #compares user input to stored password\n",
    "        print(f\"Welcome back {user_name} \") #displays user name with Welcome Back\n",
    "        require_auth = False #sets authentication to True in order to exit While loop\n",
    "    else:\n",
    "        print(\"Incorrect password, try again... \") #asks user to try again and remains in while loop\n"
   ]
  },
  {
   "cell_type": "code",
   "execution_count": null,
   "metadata": {},
   "outputs": [],
   "source": [
    "#3.4\n",
    "# Write your code here\n",
    "def skip_integers(*values):\n",
    "    for x in values:\n",
    "        if type(x) == int:\n",
    "            continue\n",
    "        print(x)\n",
    "\n",
    "# Test you code here\n",
    "skip_integers(3, 5.2, \"value\", 6.0)\n"
   ]
  },
  {
   "cell_type": "code",
   "execution_count": null,
   "metadata": {},
   "outputs": [],
   "source": [
    "#4.4\n",
    "# Write your code here\n",
    "exponential = lambda number,power : number**power\n",
    "# Use the code below to test your function\n",
    "print(exponential(2, 6))"
   ]
  },
  {
   "cell_type": "code",
   "execution_count": null,
   "metadata": {},
   "outputs": [],
   "source": [
    "#5.6\n",
    "# Write your code here\n",
    "cars = ('coupe', 'coupe', 'coupe', 'carbiolet', 'sedan')\n",
    "\n",
    "# Count the number of times the 'coupe' element appears in the tuple\n",
    "fav = cars.count('coupe')\n",
    "\n",
    "# Calculate the length of the tuple\n",
    "amt = len(cars)\n",
    "\n",
    "# Calculate the percentage of coupes in the tuple\n",
    "percentage = fav / amt\n",
    "\n",
    "# Check if the percentage of coupes is more than 45%\n",
    "if percentage > 0.45:\n",
    "    print(\"Too many coupes in the garage.\")\n",
    "else:\n",
    "    print(\"You are all set with cars.\")\n"
   ]
  },
  {
   "cell_type": "code",
   "execution_count": null,
   "metadata": {},
   "outputs": [],
   "source": [
    "#6.1A\n",
    "location = {\n",
    "    'city': 'New York',\n",
    "    'state': 'NY', \n",
    "    'country': 'USA'\n",
    "}\n",
    "print(type(location))\n"
   ]
  },
  {
   "cell_type": "code",
   "execution_count": null,
   "metadata": {},
   "outputs": [],
   "source": [
    "#6.1B\n",
    "# Write your code here\n",
    "def word_counter(string):\n",
    "    # initialize an empty dictionary to store the character counts\n",
    "    char_count = {}\n",
    "    \n",
    "    # iterate through each character in the string\n",
    "    for char in string:\n",
    "        # check if the character is a whitespace character\n",
    "        if char.isspace():\n",
    "            continue\n",
    "        \n",
    "        # check if the character is already in the dictionary\n",
    "        if char in char_count:\n",
    "            # if it is, increment the count by 1\n",
    "            char_count[char] += 1\n",
    "        else:\n",
    "            # if it's not, add it to the dictionary with a count of 1\n",
    "            char_count[char] = 1\n",
    "    \n",
    "    # return the dictionary of character counts\n",
    "    return char_count\n",
    "\n",
    "\n",
    "print(word_counter(\"Mississippi\"))\n"
   ]
  },
  {
   "cell_type": "code",
   "execution_count": null,
   "metadata": {},
   "outputs": [],
   "source": [
    "#7.2\n",
    "# Write your TabletComputer class here\n",
    "\n",
    "class TabletComputer:\n",
    "    def __init__(self, screen_size, storage, os):\n",
    "        self.screen_size = screen_size\n",
    "        self.storage = storage\n",
    "        self.os = os\n",
    "\n",
    "uPad = TabletComputer(12.9, \"1TB\", \"uPadOS 13.5.1\")\n",
    "rootProX = TabletComputer(13.0, \"512GB\", \"Glass 10 Home\")\n",
    "\n",
    "print(f\"The new uPad has a {uPad.screen_size} inch display. A maximum {uPad.storage} of storage and runs on the latest version of {uPad.os}. Its biggest competitor is the Root Pro X which holds a similar {rootProX.screen_size} inch display, with a maximum storage capacity of {rootProX.storage} and runs {rootProX.os}.\")\n"
   ]
  },
  {
   "cell_type": "code",
   "execution_count": 1,
   "metadata": {},
   "outputs": [
    {
     "name": "stdout",
     "output_type": "stream",
     "text": [
      "Formatter\n",
      "Template\n",
      "_ChainMap\n",
      "_re\n",
      "_sentinel_dict\n",
      "_string\n",
      "ascii_letters\n",
      "ascii_lowercase\n",
      "ascii_uppercase\n",
      "capwords\n",
      "digits\n",
      "hexdigits\n",
      "octdigits\n",
      "printable\n",
      "punctuation\n",
      "whitespace\n"
     ]
    }
   ],
   "source": [
    "#8.3b Test\n",
    "import string\n",
    "\n",
    "\n",
    "def resources_scanner(package):\n",
    "    resources_list = dir(package)\n",
    "    for resource in resources_list:\n",
    "        if not resource.startswith('__'):  # check for hidden attributes\n",
    "            print(resource)\n",
    "\n",
    "\n",
    "\n",
    "# testing the function with string package\n",
    "resources_scanner(string)\n"
   ]
  },
  {
   "cell_type": "code",
   "execution_count": null,
   "metadata": {},
   "outputs": [],
   "source": [
    "#9.3\n",
    "import random\n",
    "\n",
    "try:\n",
    "    print(random.randinteger(5, 15))\n",
    "except AttributeError:\n",
    "    print(\"Double check the attributes in your code and try again.\")\n"
   ]
  }
 ],
 "metadata": {
  "kernelspec": {
   "display_name": "Python 3",
   "language": "python",
   "name": "python3"
  },
  "language_info": {
   "codemirror_mode": {
    "name": "ipython",
    "version": 3
   },
   "file_extension": ".py",
   "mimetype": "text/x-python",
   "name": "python",
   "nbconvert_exporter": "python",
   "pygments_lexer": "ipython3",
   "version": "3.11.2"
  },
  "orig_nbformat": 4
 },
 "nbformat": 4,
 "nbformat_minor": 2
}
