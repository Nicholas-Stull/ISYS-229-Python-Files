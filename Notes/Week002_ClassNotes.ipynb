{
 "cells": [
  {
   "attachments": {},
   "cell_type": "markdown",
   "metadata": {},
   "source": [
    "# Week 2 - Python Programming Basics\n",
    "## Hands On Project\n",
    "1.  import date class from datetime module\n",
    "2.  create the date object of today's date and legal age requirement variable\n",
    "3.  collecting user input regarding their first and last name along with their current age\n",
    "4.  create a function that calculates the difference between legal age and current age and then returns a value\n",
    "5.  print user information ensuring to capitalize user's first and last name using the f function. \n",
    "    *   The user's age should also be printed on the same sentence\n",
    "6.  Develop an if statement to determine if the user is too young to run for president\n",
    "7.  If the user is old enough, you should print a statement that states \"You are old enough to run for president\"\n",
    "8.  If the user is not old enough, you should develop an else statement that calls a function to determine the age gap and then print the following\n",
    "9.  Wait until you turn (legal age variable) years old to run for the office of President. \n",
    "    *    Which should be in about (function variable) years from (today's date variable)\n",
    "\n",
    "* [Hands On Project Solution](HandsOn/stull_nicholas.py)\n",
    "* [Hands On Project Solution from Class](HandsOn/Week2_Solution.py)\n",
    "\n",
    "## Notes\n",
    "*   [Notes](Notes/Week2_Notes.md)\n",
    "*   [Notes from Class](Notes/Week2_ClassNotes.ipynb)"
   ]
  },
  {
   "attachments": {},
   "cell_type": "markdown",
   "metadata": {},
   "source": [
    "# Python Week 2 | Jan 16 - Jan 22 | Scripting\n",
    "\n",
    "## Working With Numbers & Operators\n",
    "\n",
    "1. Different types of Operators\n",
    "    1. Mathematical Operators\n",
    "        1. Addition (+)\n",
    "        2. Subtraction (-)\n",
    "        3. Multiplication (*)\n",
    "        4. Division (/)\n",
    "        5. Floor Division (//)\n",
    "        6. Exponentiation (**)\n",
    "        7. Modulus (%)\n",
    "    2. Order of Operations\n",
    "        1. Parentheses\n",
    "        2. Exponentiation\n",
    "        3. Multiplication\n",
    "        4. Division\n",
    "        5. Addition\n",
    "        6. Subtraction\n",
    "    3. Comparison Operators\n",
    "        1. Equal to (==)\n",
    "        2. Not Equal to (!=)\n",
    "        3. Greater than (>)\n",
    "        4. Less than (<)\n",
    "        5. Greater than or equal to (>=)\n",
    "        6. Less than or equal to (<=)\n",
    "    4. Logical Operators\n",
    "        1. and\n",
    "        2. or\n",
    "        3. not\n",
    "    5. Bitwise Operators\n",
    "        1. Bitwise AND (&)\n",
    "        2. Bitwise OR (|)\n",
    "        3. Bitwise NOT (~)\n",
    "        4. Bitwise XOR (^)\n",
    "        5. Bitwise right shift (>>)\n",
    "        6. Bitwise left shift (<<)\n",
    "2. Can use the following functions to convert between data types:\n",
    "    1. int()\n",
    "    2. float()\n",
    "    3. str()\n",
    "    4. bool()\n",
    "    5. None\n",
    "3. Can assign values to variables using the assignment operator ( = ).\n",
    "    1. Example: ```X = 5```\n",
    "4. Can assign multiple values to multiple variables in a single line.\n",
    "    1. Example: ```X, Y, Z = 1, 2, 3```\n",
    "5. Error is raised if number of variables on left side of assignment operator does not match number of values on right side.\n",
    "    1. Example: ```X, Y, Z = 1, 2``` will raise an error.\n",
    "\n",
    "## Working with Loops\n",
    "1. Can use the following loops:\n",
    "    1. for\n",
    "    2. while\n",
    "    3. Nested Loops\n",
    "2. Can use the following keywords:\n",
    "    1. break\n",
    "    2. continue\n",
    "    3. pass\n",
    "3. Can use the following functions:\n",
    "    1. range()\n",
    "    2. enumerate()\n",
    "    3. zip()\n",
    "    4. reversed()\n",
    "    5. sorted()\n",
    "    6. map()\n",
    "    7. filter()\n",
    "    8. lambda\n",
    "\n",
    "## Working with Import Statements\n",
    "1. Can use the following import statements:\n",
    "    1. import\n",
    "    2. from\n",
    "    3. as\n",
    "    4. import *\n",
    "    5. from * import"
   ]
  },
  {
   "cell_type": "code",
   "execution_count": 6,
   "metadata": {
    "slideshow": {
     "slide_type": "notes"
    }
   },
   "outputs": [],
   "source": [
    "# made by Nicholas Stull\n",
    "# 1/18/2021\n",
    "# github.com/Nicholas-Stull"
   ]
  },
  {
   "cell_type": "code",
   "execution_count": 7,
   "metadata": {},
   "outputs": [
    {
     "name": "stdout",
     "output_type": "stream",
     "text": [
      "You are 20, and you're too young to run for president\n"
     ]
    }
   ],
   "source": [
    "\n",
    "age_president = 35\n",
    "# input\n",
    "name = input(\"What is your name? \")\n",
    "user_age = int(input(\"What is your age? \"))  # changes `userAge` to an integer\n",
    "if user_age < age_president:\n",
    "    print(f\"You are {user_age}, and you're too young to run for president\")\n",
    "else:\n",
    "    print(\n",
    "        f\"You are {user_age} and old enough to run for president or another office\")\n"
   ]
  },
  {
   "cell_type": "code",
   "execution_count": 23,
   "metadata": {},
   "outputs": [
    {
     "name": "stdout",
     "output_type": "stream",
     "text": [
      "your answer is 24\n"
     ]
    }
   ],
   "source": [
    "notThebucket1 = int(input(\"Enter a number: \"))\n",
    "notThebucket2 = int(input(\"Enter another number: \"))\n",
    "answer = (notThebucket1) + (notThebucket2)\n",
    "print(\"your answer is\", str(answer))\n"
   ]
  },
  {
   "cell_type": "code",
   "execution_count": null,
   "metadata": {},
   "outputs": [],
   "source": [
    "print(\"5+10\")   #print(\"5+10\")\n",
    "print(\"5%10\")   #print(\"5%10\")"
   ]
  },
  {
   "cell_type": "code",
   "execution_count": null,
   "metadata": {},
   "outputs": [],
   "source": [
    "# Variables1\n",
    "true = \"false\"\n",
    "false = \"true\"\n",
    "\n",
    "print(type(true))\n",
    "print(true)\n",
    "print(false)\n"
   ]
  }
 ],
 "metadata": {
  "kernelspec": {
   "display_name": "Python 3",
   "language": "python",
   "name": "python3"
  },
  "language_info": {
   "codemirror_mode": {
    "name": "ipython",
    "version": 3
   },
   "file_extension": ".py",
   "mimetype": "text/x-python",
   "name": "python",
   "nbconvert_exporter": "python",
   "pygments_lexer": "ipython3",
   "version": "3.11.1"
  },
  "orig_nbformat": 4,
  "vscode": {
   "interpreter": {
    "hash": "bd302b0bf7607ef858b0b60d817d0cdff726ce2e302705e5f11f097fbdec3ff2"
   }
  }
 },
 "nbformat": 4,
 "nbformat_minor": 2
}
