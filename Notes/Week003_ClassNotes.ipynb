{
 "cells": [
  {
   "attachments": {},
   "cell_type": "markdown",
   "metadata": {},
   "source": [
    "# Week 3 - Flowcharts and Pseudocode\n",
    "## Learning Objectives\n",
    "1.  Define the term “pseudocode” as a generalized description of a program\n",
    "2.  Define the term “flowchart” as a diagrammatic representation of an algorithm.\n",
    "3.  Define a decision table as a grid of rows and columns used to distill a set of complex decisions and actions into a set of rules that can become the statements in a computer program.\n",
    "## Hands On Project\n",
    "### Exercise 1 - Bill Total\n",
    "1.  Exercise 1 Files:\n",
    "    1. [Python File](HandsOn/billTotal/billTotal.py)\n",
    "    2. [Psudocode](HandsOn/billTotal/Psudocode.md)\n",
    "\n",
    "### Exercise 2\n",
    "1.  Exercise 2 Files:\n",
    "    1. [Python File](HandsOn/miles/miles.py)\n",
    "    2. [Psudocode](HandsOn/miles/Psudocode.md)\n",
    "2.  Exercise 2 Description:\n",
    "    1.  For your second activity, you will need to use the information that you’ve learned so far and provide the outcomes based on the following listed requirements.\n",
    "    2.  Develop a program which asks the user to enter three separate whole numbers\n",
    "    3.  Based on the information provided, the program will need to add the numbers together\n",
    "    4.  Once the numbers are added together, there should be an output that states “Based on the information provided, you total is” {variable name}\n",
    "### Exercise 3\n",
    "1.  Exercise 3 Files:\n",
    "    1. [Python File](HandsOn/presidentialAge/presidentialAge.py)\n",
    "    2. [Psudocode](HandsOn/presidentialAge/Psudocode.md)\n",
    "2.  Exercise 3 Description:\n",
    "    1.  For your third activity, you will need to use the information that you’ve learned so far and provide the outcomes based on the following listed requirements.\n",
    "    2.  Develop a program which asks for the user’s first name, last name, and age.\n",
    "    3.  Based on the user’s age decide if the user meets the age requirement to run for the office of president, (Google the age requirement if you have to).\n",
    "    4.  If the user is old enough, the program should output their full name along with their current age, and tell them good luck with their race for the presidency.\n",
    "    5.  If they are not old enough, the program should output their full name along with their current age, and mention that they are not old enough to run for the presidency. \n",
    "## Examples from Class\n",
    "[sample flowchart using mermaid](samples/class.md)\n",
    "## Notes\n",
    "*   [Mermaid Flowchart](Notes/Mermaid.md)\n",
    "*   [Notes from Class](Notes/Week3_ClassNotes.ipynb)"
   ]
  },
  {
   "attachments": {},
   "cell_type": "markdown",
   "metadata": {},
   "source": [
    "# Pseudocode\n",
    "1. From algorithms to pseudocode \n",
    "\t1. Pseudocode\n",
    "\t\t1. a set of human-readable statements for delineating the steps of an algorithm\n",
    "\t2. Pseudocode is not a program you can run, but provides more detail than an algorithm, easing the transition from idea to program code\n",
    "\t3. Used to help brainstorm before you code\n",
    "\t4. Easy to write and help determine logic of a problem\n",
    "\t5. Non-technical team members can understand\n",
    "2. Pseudocode guidelines\n",
    "\t1. Some keywords and style conventions are derived from programming languages\n",
    "\t2. In pseudocode, you work with variables, which hold values that might change during program execution, and computations\n",
    "Pseudocode Examples: Output\n",
    "```python\n",
    "Python • print(“Game Over”)\n",
    "```\n",
    "```pseudocode\n",
    "Display ‘Game Over’\n",
    "```\n",
    "Pseudocode Examples: Retrieve Information\n",
    "```python\n",
    "Name = input(“Enter name:”)\n",
    "```\n",
    "```pseudocode\n",
    "Prompt for name Or Get name\n",
    "```"
   ]
  },
  {
   "attachments": {},
   "cell_type": "markdown",
   "metadata": {},
   "source": [
    "# Week 3 Notes\n",
    "## Mermaid\n",
    "\n",
    "To make a flowchart, you can use the mermaid extension.  You can use the following code to make a flowchart:\n",
    "\n",
    "```mermaid\n",
    "graph TD\n",
    "A[Hard] -->|Text| B(Round)\n",
    "B --> C{Decision}\n",
    "C -->|One| D[Result 1]\n",
    "C -->|Two| E[Result 2]\n",
    "```"
   ]
  }
 ],
 "metadata": {
  "kernelspec": {
   "display_name": "Python 3",
   "language": "python",
   "name": "python3"
  },
  "language_info": {
   "name": "python",
   "version": "3.11.2"
  },
  "orig_nbformat": 4,
  "vscode": {
   "interpreter": {
    "hash": "a78cd2083f1996e791c12e16490b5daab1e6b30b1b1414fe6c50d0ef9ec45658"
   }
  }
 },
 "nbformat": 4,
 "nbformat_minor": 2
}
