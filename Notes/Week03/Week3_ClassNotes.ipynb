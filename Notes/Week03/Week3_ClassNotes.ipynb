{
 "cells": [
  {
   "cell_type": "code",
   "execution_count": null,
   "metadata": {},
   "outputs": [],
   "source": []
  }
 ],
 "metadata": {
  "kernelspec": {
   "display_name": "Python 3",
   "language": "python",
   "name": "python3"
  },
  "language_info": {
   "name": "python",
   "version": "3.11.2"
  },
  "orig_nbformat": 4,
  "vscode": {
   "interpreter": {
    "hash": "a78cd2083f1996e791c12e16490b5daab1e6b30b1b1414fe6c50d0ef9ec45658"
   }
  }
 },
 "nbformat": 4,
 "nbformat_minor": 2
}
