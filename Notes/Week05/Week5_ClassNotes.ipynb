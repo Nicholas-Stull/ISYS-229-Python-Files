{
 "cells": [
  {
   "cell_type": "code",
   "execution_count": 2,
   "metadata": {},
   "outputs": [
    {
     "name": "stdout",
     "output_type": "stream",
     "text": [
      "NichOLAS\n"
     ]
    }
   ],
   "source": [
    "# Sample1 index\n",
    "# collecting inputs\n",
    "word = input(\"Word to convert: \")\n",
    "count = int(\n",
    "    input(\"How many letters at the end of the word should be converted? \"))\n",
    "\n",
    "# First part of the string\n",
    "first = word[:(len(word) - count)]\n",
    "\n",
    "\n",
    "# last part of the string that we're converting.\n",
    "last = word[(len(word) - count):]\n",
    "\n",
    "\n",
    "# print the variable first and last. The last variable uses the upper case function\n",
    "print(first + last.upper())\n"
   ]
  },
  {
   "cell_type": "code",
   "execution_count": 3,
   "metadata": {},
   "outputs": [
    {
     "name": "stdout",
     "output_type": "stream",
     "text": [
      "Information provided:  ['Hello Roadrunners', 3.14, 49, [77, 21, 56], 'Python']\n",
      "[77, 21, 56]\n",
      "['Hello Roadrunners', 3.14, 49, [77, 21, 56], 'Python']\n"
     ]
    }
   ],
   "source": [
    "# sample2 Lists\n",
    "data = [\"Hello Roadrunners\", 3.14, 49, [77, 21, 56], \"Python\"]\n",
    "\n",
    "print(\"Information provided: \", data)\n",
    "index_value = int(input(\"Enter the specific elements to fetch from array: \"))\n",
    "count = int(input(\"Number of elements to fetch from array: \"))\n",
    "\n",
    "print(data[index_value])  # this prints the specific index\n",
    "print(data[0: count])  # this prints the total number of elements to be fetched\n"
   ]
  }
 ],
 "metadata": {
  "kernelspec": {
   "display_name": "Python 3",
   "language": "python",
   "name": "python3"
  },
  "language_info": {
   "codemirror_mode": {
    "name": "ipython",
    "version": 3
   },
   "file_extension": ".py",
   "mimetype": "text/x-python",
   "name": "python",
   "nbconvert_exporter": "python",
   "pygments_lexer": "ipython3",
   "version": "3.11.1"
  },
  "orig_nbformat": 4,
  "vscode": {
   "interpreter": {
    "hash": "bd302b0bf7607ef858b0b60d817d0cdff726ce2e302705e5f11f097fbdec3ff2"
   }
  }
 },
 "nbformat": 4,
 "nbformat_minor": 2
}
