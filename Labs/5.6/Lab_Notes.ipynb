{
 "cells": [
  {
   "cell_type": "code",
   "execution_count": null,
   "metadata": {},
   "outputs": [],
   "source": [
    "#Sample1\n",
    "\n",
    "# Purpose: Demonstrate the use of lists\n",
    ">> > courses = ['Windows Server', 'Python', 'Linux', 'Cisco']\n",
    ">> > courses\n",
    "['Windows Server', 'Python', 'Linux', 'Cisco']\n",
    "\n",
    "berries = ['strawberry', 'blueberry', 'blackberry', 'raspberry']\n",
    "berries = ['Strawberry', 'Blueberry', 'Blackberry', 'Cranberry']\n",
    "\n",
    ">> > courses.append('Systems Analysis')\n",
    ">> > courses\n",
    "['Windows Server', 'Python', 'Linux', 'Cisco', 'Systems Analysis']\n",
    "\n",
    "\n",
    ">> > certs = []\n",
    ">> > certs.extend(courses)\n",
    ">> > certs\n",
    "['Windows Server', 'Python', 'Linux', 'Cisco', 'Systems Analysis']\n",
    "\n",
    "\n",
    ">> > certs.insert(4, 'CCNA')\n",
    ">> > certs\n",
    "['Windows Server', 'Python', 'Linux', 'Cisco', 'CCNA', 'Systems Analysis']\n",
    "\n",
    "\n",
    ">> > certs.pop(3)\n",
    "'Cisco'\n",
    ">> > certs\n",
    "['Windows Server', 'Python', 'Linux', 'CCNA', 'Systems Analysis']\n",
    "\n",
    "\n",
    ">> > certs.sort(reverse=False)\n",
    ">> > certs\n",
    "['CCNA', 'Linux', 'Python', 'Systems Analysis', 'Windows Server']\n",
    "\n",
    "\n",
    ">> > certs.sort(reverse=True)\n",
    ">> > certs\n",
    "['Windows Server', 'Systems Analysis', 'Python', 'Linux', 'CCNA']\n"
   ]
  },
  {
   "cell_type": "code",
   "execution_count": null,
   "metadata": {},
   "outputs": [],
   "source": [
    "#Sample2\n",
    "# Simple graduation calculation\n",
    "\n",
    "grades = ('F', 'F', 'C-', 'F', 'B-')  # setting up a tuple of grades\n",
    "\n",
    "failures = grades.count('F')  # counting all failed grades\n",
    "\n",
    "total_grades = len(grades)  # returning total number of elements in the tuple\n",
    "\n",
    "passing_criteria = 45  # establishing pass or fail metric\n",
    "\n",
    "if (failures/total_grades)*100 > passing_criteria:  # determining the grade average\n",
    "\tprint(\"You're not going to pass\")  # print this if true\n",
    "else:\n",
    "\tprint(\"Good work, you're all set to graduate.\")  # print this if false\n"
   ]
  }
 ],
 "metadata": {
  "kernelspec": {
   "display_name": "Python 3",
   "language": "python",
   "name": "python3"
  },
  "language_info": {
   "name": "python",
   "version": "3.11.2"
  },
  "orig_nbformat": 4,
  "vscode": {
   "interpreter": {
    "hash": "a78cd2083f1996e791c12e16490b5daab1e6b30b1b1414fe6c50d0ef9ec45658"
   }
  }
 },
 "nbformat": 4,
 "nbformat_minor": 2
}
